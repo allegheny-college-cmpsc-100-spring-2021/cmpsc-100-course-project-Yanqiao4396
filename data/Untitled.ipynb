{
 "cells": [
  {
   "cell_type": "code",
   "execution_count": 6,
   "metadata": {},
   "outputs": [
    {
     "name": "stdout",
     "output_type": "stream",
     "text": [
      "Charmander\n"
     ]
    },
    {
     "data": {
      "text/plain": [
       "str"
      ]
     },
     "execution_count": 6,
     "metadata": {},
     "output_type": "execute_result"
    }
   ],
   "source": [
    "        monsters = {\n",
    "            \"Squirtle\":{\n",
    "                \"hp\": 100,\n",
    "                \"attack\": 30\n",
    "                },\n",
    "            \"Charmander\":{\n",
    "                \"hp\": 120,\n",
    "                \"attack\": 25\n",
    "                },\n",
    "            \"Bulbasaur\":{\n",
    "                \"hp\":90,\n",
    "                \"attack\": 35\n",
    "            }\n",
    "        }\n",
    "        list = []\n",
    "        for monster in monsters:\n",
    "            list.append(monster)\n",
    "        import random\n",
    "        a = random.choice(list)\n",
    "        print(a)\n",
    "        type(a)"
   ]
  },
  {
   "cell_type": "code",
   "execution_count": null,
   "metadata": {},
   "outputs": [],
   "source": []
  }
 ],
 "metadata": {
  "kernelspec": {
   "display_name": "Python 3",
   "language": "python",
   "name": "python3"
  },
  "language_info": {
   "codemirror_mode": {
    "name": "ipython",
    "version": 3
   },
   "file_extension": ".py",
   "mimetype": "text/x-python",
   "name": "python",
   "nbconvert_exporter": "python",
   "pygments_lexer": "ipython3",
   "version": "3.8.5"
  }
 },
 "nbformat": 4,
 "nbformat_minor": 4
}
